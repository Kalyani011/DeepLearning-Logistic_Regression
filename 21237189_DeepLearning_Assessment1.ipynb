{
 "cells": [
  {
   "cell_type": "markdown",
   "metadata": {},
   "source": [
    "# Deep Learning - Assignment 1 Report\n",
    "\n",
    "#### Submitted By: Kalyani Prashant Kawale\n",
    "#### Student ID: 21237189\n"
   ]
  },
  {
   "cell_type": "markdown",
   "metadata": {},
   "source": [
    "\n",
    "### Assignment: Implement Shallow and Deep Neural Network\n",
    "\n",
    "The given assignment has 5 parts, the solutions to each part are presented in following sections,\n"
   ]
  },
  {
   "cell_type": "markdown",
   "metadata": {},
   "source": [
    "### Part 1 Solution: Implement Logistic Regression"
   ]
  },
  {
   "cell_type": "code",
   "execution_count": 1,
   "metadata": {},
   "outputs": [],
   "source": [
    "# Package imports\n",
    "import matplotlib\n",
    "import matplotlib.pyplot as plt\n",
    "import sklearn\n",
    "import sklearn.datasets\n",
    "import pandas as pd\n",
    "import numpy as np\n",
    "import itertools\n",
    "from tabulate import tabulate\n",
    "from sklearn.model_selection import train_test_split\n",
    "from sklearn.metrics import accuracy_score\n",
    "\n",
    "# Display plots inline and change default figure size\n",
    "%matplotlib inline"
   ]
  },
  {
   "cell_type": "markdown",
   "metadata": {},
   "source": [
    "Following section consists of two methods, LogisticRegressor and Predict. The LogisticRegressor implementation is based on material covered in [1],"
   ]
  },
  {
   "cell_type": "code",
   "execution_count": 3,
   "metadata": {},
   "outputs": [],
   "source": [
    "def LogisticRegressor(X, y, alpha=0.01, max_iters=1000):\n",
    "    '''\n",
    "        Method to create a model for any data-set based on Logistic Regression, \n",
    "        using Stochastic Gradient Descent optimization.\n",
    "        \n",
    "        X: Input features for fixed number of samples\n",
    "        y: Output labels for each sample in X\n",
    "        alpha: Learning rate to control downhill step size for gradient descent\n",
    "        max_iters: Number of iterations for training weights and biases\n",
    "        \n",
    "    '''\n",
    "    # Getting the size of number of samples and number of features in X\n",
    "    (nsamples, nattributes) = np.shape(X)\n",
    "    # Initialising threshold to small value to check convergence\n",
    "    threshold = 1e-6\n",
    "    # Initialising weights and biases\n",
    "    w = np.random.rand(nattributes)\n",
    "    b = np.random.rand()\n",
    "    # Initialising cost value to 0\n",
    "    J_prev = 0\n",
    "    # Running logistic regression for max_iters iterations\n",
    "    for i in range(max_iters):\n",
    "        # Randomly selecting a sample from X\n",
    "        idx = np.random.choice(nsamples, 1, replace=False)\n",
    "        random_X = X[idx[0]]\n",
    "        random_y = y[idx[0]]\n",
    "        # Calculating prediction for random sample using sigmoid function\n",
    "        y_hat = 1 / (1 + np.exp(-1 * (np.dot(w, random_X) + b)))\n",
    "        # Calculating cost\n",
    "        J_curr = -1 * ((random_y * np.log(y_hat)) + ((1 - random_y) * np.log(1 - y_hat)))\n",
    "        # Checking if convergence reached\n",
    "        if np.absolute(J_curr - J_prev) < threshold:\n",
    "            break\n",
    "        else:\n",
    "            J_prev = J_curr\n",
    "        # Calculating gradients, derivatives of Cost w.r.t weights and bias\n",
    "        delta_w = []\n",
    "        for j in range(len(w)):\n",
    "            delta_w.append((y_hat - random_y) * random_X[j])\n",
    "        delta_b = (y_hat - random_y)\n",
    "        # Updating weights and bias using the gradients\n",
    "        for j in range(len(w)):\n",
    "            w[j] -= alpha * delta_w[j]\n",
    "        b -= alpha * delta_b        \n",
    "    return w, b\n",
    "\n",
    "def predict(data, weights, bias):\n",
    "    '''\n",
    "        Method to predict classes of new samples using LogisticRegressor\n",
    "        \n",
    "        data: Input data with fixed number of samples\n",
    "        weights: Weights obtained using gradient descent ran on training data-set\n",
    "        bias: Bias obtained using gradient descent ran in training data-set\n",
    "    '''\n",
    "    # Initialising predictions\n",
    "    predictions = []\n",
    "    # Calculating predictions for each sample using logistic regression\n",
    "    for sample in data:\n",
    "        prediction = 1 / (1 + np.exp(-1 * (np.dot(weights, sample) + bias))) \n",
    "        if prediction >= 0.5:\n",
    "            predictions.append(1)\n",
    "        else:\n",
    "            predictions.append(0)\n",
    "    return predictions"
   ]
  },
  {
   "cell_type": "markdown",
   "metadata": {},
   "source": [
    "### Part 2 Solution: Easy Tasks\n",
    "\n",
    "Following section performs training, validation and, testing on blobs300 and circles600 data-sets using LogisticRegressor defined in Part 1."
   ]
  },
  {
   "cell_type": "code",
   "execution_count": 57,
   "metadata": {},
   "outputs": [],
   "source": [
    "# Creating a list of file names for storing,\n",
    "# names of files consisting blobs300 and circles600 data-sets\n",
    "files = [\"blobs300.csv\", \"circles600.csv\"]\n",
    "\n",
    "# Setting a list of different learning rates\n",
    "alpha_s = [0.1, 0.001, 0.0001]\n",
    "\n",
    "# Setting a list of different number of maximum iterations\n",
    "iterations = [1000, 10000, 20000]\n",
    "\n",
    "# Initialising dictionaries to store train, valid and test data-sets for both datasets\n",
    "X_train = {}\n",
    "y_train = {}\n",
    "X_valid = {}\n",
    "y_valid = {}\n",
    "X_test = {}\n",
    "y_test = {}\n",
    "# Initialising dataframe to store results for different parameter configurations\n",
    "results = pd.DataFrame(columns=['File Name', 'Learning Rate', 'Iterations', 'Accuracy'])\n",
    "# Setting random seed to reproduce the same results\n",
    "np.random.seed(200)\n",
    "\n",
    "# Note: Reading of files into X and y is based on codes given in [2]\n",
    "for file in files:\n",
    "    # Using pandas to read the CSV file as a dataframe\n",
    "    df = pd.read_csv(file).sample(frac=1).reset_index(drop=True)\n",
    "    # Extracting labels from column named Class\n",
    "    y = df['Class'].values\n",
    "    # Removing Class column from dataframe\n",
    "    del df['Class']\n",
    "    # Setting X with dataframe values\n",
    "    X = df.values\n",
    "    \n",
    "    # Splitting data into train (70%), validate (15%), and test data (15%),\n",
    "    # the use of train_test_split is based on codes given in [3],[4]\n",
    "    X_train[file], X_validate_test, y_train[file], y_validate_test = train_test_split(X, y, train_size=0.7)\n",
    "    X_valid[file], X_test[file], y_valid[file], y_test[file] = \\\n",
    "        train_test_split(X_validate_test, y_validate_test, test_size=0.5)\n",
    "    \n",
    "    # Training and validating for different hyperparameters\n",
    "    for alpha, iters in itertools.product(alpha_s, iterations):\n",
    "        row = {'File Name': file, 'Learning Rate': alpha, 'Iterations': iters}\n",
    "        # Getting trained weights and bias\n",
    "        w, b = LogisticRegressor(X_train[file], y_train[file], alpha, iters)\n",
    "        # Predicting on validation data using trained weights and bias\n",
    "        predictions = predict(X_valid[file], w, b)\n",
    "        # Using Scikit Learn accuracy_score method to calculate prediction accuracy\n",
    "        accuracy = accuracy_score(y_valid[file], predictions)\n",
    "        # Setting results for current pair of hyperparameters\n",
    "        row['Accuracy'] = accuracy\n",
    "        results = results.append(row, ignore_index=True)    "
   ]
  },
  {
   "cell_type": "code",
   "execution_count": 58,
   "metadata": {},
   "outputs": [
    {
     "name": "stdout",
     "output_type": "stream",
     "text": [
      "Training and Validation Results:\n",
      "\n",
      "|    | File Name      |   Learning Rate |   Iterations |   Accuracy |\n",
      "|---:|:---------------|----------------:|-------------:|-----------:|\n",
      "|  0 | blobs300.csv   |          0.1    |         1000 |   1        |\n",
      "|  1 | blobs300.csv   |          0.1    |        10000 |   1        |\n",
      "|  2 | blobs300.csv   |          0.1    |        20000 |   1        |\n",
      "|  3 | blobs300.csv   |          0.001  |         1000 |   0.933333 |\n",
      "|  4 | blobs300.csv   |          0.001  |        10000 |   1        |\n",
      "|  5 | blobs300.csv   |          0.001  |        20000 |   0.977778 |\n",
      "|  6 | blobs300.csv   |          0.0001 |         1000 |   0.577778 |\n",
      "|  7 | blobs300.csv   |          0.0001 |        10000 |   0.577778 |\n",
      "|  8 | blobs300.csv   |          0.0001 |        20000 |   0.911111 |\n",
      "|  9 | circles600.csv |          0.1    |         1000 |   0.655556 |\n",
      "| 10 | circles600.csv |          0.1    |        10000 |   0.477778 |\n",
      "| 11 | circles600.csv |          0.1    |        20000 |   0.677778 |\n",
      "| 12 | circles600.csv |          0.001  |         1000 |   0.522222 |\n",
      "| 13 | circles600.csv |          0.001  |        10000 |   0.588889 |\n",
      "| 14 | circles600.csv |          0.001  |        20000 |   0.333333 |\n",
      "| 15 | circles600.csv |          0.0001 |         1000 |   0.7      |\n",
      "| 16 | circles600.csv |          0.0001 |        10000 |   0.711111 |\n",
      "| 17 | circles600.csv |          0.0001 |        20000 |   0.522222 |\n"
     ]
    }
   ],
   "source": [
    "# Printing results for different hyperparameters\n",
    "print(\"Training and Validation Results:\\n\")\n",
    "print(results.to_markdown())"
   ]
  },
  {
   "cell_type": "code",
   "execution_count": 59,
   "metadata": {},
   "outputs": [
    {
     "name": "stdout",
     "output_type": "stream",
     "text": [
      "Accuracy on Test data-set using alpha 0.1 and 1000 iterations:\n",
      "100.0%\n"
     ]
    },
    {
     "data": {
      "image/png": "[encoded data removed]",
      "text/plain": [
       "<Figure size 432x288 with 1 Axes>"
      ]
     },
     "metadata": {
      "needs_background": "light"
     },
     "output_type": "display_data"
    }
   ],
   "source": [
    "# Predicting class for samples in test data using,\n",
    "# best alpha and best iterations for blobs300 data-set\n",
    "np.random.seed(200)\n",
    "file = 'blobs300.csv'\n",
    "# Training logistic regressor for data-set using best alpha value and best iterations\n",
    "w, b = LogisticRegressor(X_train[file], y_train[file], 0.1, 1000)\n",
    "# Predicting classes for Test data-set\n",
    "predictions = predict(X_test[file], w, b)\n",
    "# Calculating and printing accuracy\n",
    "print(f\"Accuracy on Test data-set using alpha 0.1 and 1000 iterations:\")\n",
    "print(f\"{round(accuracy_score(y_test[file], predictions), 4) * 100}%\")\n",
    "# Visualising the predictions for data-set\n",
    "plt.scatter(X_test[file][:, 0], X_test[file][:, 1], c=predictions) \n",
    "plt.title(f\"Testing Result for {file} dataset\")\n",
    "plt.show()    "
   ]
  },
  {
   "cell_type": "code",
   "execution_count": 60,
   "metadata": {},
   "outputs": [
    {
     "name": "stdout",
     "output_type": "stream",
     "text": [
      "Accuracy on Test data-set using alpha 0.0001 and 1000 iterations:\n",
      "65.56%\n"
     ]
    },
    {
     "data": {
      "image/png": "[encoded data removed]",
      "text/plain": [
       "<Figure size 432x288 with 1 Axes>"
      ]
     },
     "metadata": {
      "needs_background": "light"
     },
     "output_type": "display_data"
    }
   ],
   "source": [
    "# Predicting class for samples in test data using,\n",
    "# best alpha and best iterations for circles300 data-set\n",
    "np.random.seed(200)\n",
    "file = 'circles600.csv'\n",
    "# Training logistic regressor for data-set using best alpha value and best iterations\n",
    "w, b = LogisticRegressor(X_train[file], y_train[file], 0.0001, 1000)\n",
    "# Predicting classes for Test data-set\n",
    "predictions = predict(X_test[file], w, b)\n",
    "# Calculating and printing accuracy\n",
    "print(f\"Accuracy on Test data-set using alpha 0.0001 and 1000 iterations:\")\n",
    "print(f\"{round(accuracy_score(y_test[file], predictions), 4) * 100}%\")\n",
    "# Visualising the predictions for data-set\n",
    "plt.scatter(X_test[file][:, 0], X_test[file][:, 1], c=predictions) \n",
    "plt.title(f\"Testing Result for {file} dataset\")\n",
    "plt.show()"
   ]
  },
  {
   "cell_type": "markdown",
   "metadata": {},
   "source": [
    "### Part 3 Solution: Implement and Test a Shallow Neural Network\n",
    "\n",
    "Following sections contain different methods required to run the neural network for different datasets."
   ]
  },
  {
   "cell_type": "markdown",
   "metadata": {},
   "source": [
    "> #### Part 3.1: Sigmoid Function and First-order Derviative of Sigmoid Function\n",
    "f() and f_dash() methods calculate sigmoid function and first-order derivative of sigmoid function for activations."
   ]
  },
  {
   "cell_type": "code",
   "execution_count": 23,
   "metadata": {},
   "outputs": [],
   "source": [
    "# Part 3.1: Sigmoid Function and First-order Derviative of Sigmoid Function\n",
    "def f(z):\n",
    "    '''\n",
    "        Method to calculate sigmoid value of z\n",
    "    '''\n",
    "    return 1 / (1 + np.exp(-z))\n",
    "\n",
    "def f_dash(z):\n",
    "    '''\n",
    "        Method to calculate first-order derivative of z using sigmoid\n",
    "    '''\n",
    "    return f(z) * (1 - f(z))"
   ]
  },
  {
   "cell_type": "markdown",
   "metadata": {},
   "source": [
    "> #### Part 3.2: Forward Propagation\n",
    "ForwardPropagation() method performs the forward pass of the neural network. The method is configured to work for both shallow and deep neural network."
   ]
  },
  {
   "cell_type": "code",
   "execution_count": 26,
   "metadata": {},
   "outputs": [],
   "source": [
    "# Part 3.2: Forward Propagation\n",
    "def ForwardPropagation(x, weights, biases):\n",
    "    '''\n",
    "        Method to perform forward propogation step of neural network, \n",
    "        to calculate sigma and activation values for each neuron\n",
    "        in all hidden and output layers\n",
    "        \n",
    "        x: numpy array of all features for a single sample\n",
    "        weights: initialised, updated, or trained weights for each layer, \n",
    "                 depending on the phase of calculations\n",
    "        biases: initialised, updated, or trained biases for each layer, \n",
    "                 depending on the phase of calculations\n",
    "    '''\n",
    "    sigmas = []\n",
    "    activations = []\n",
    "    # Initialising activations with input values\n",
    "    activations.append(x)\n",
    "    # Calculating sigma and activation values for each neuron in all layers\n",
    "    for layer in range(len(weights)):\n",
    "        # Initialising sigma and activations for current layer\n",
    "        sigma_layer = np.zeros(weights[layer].shape[0])\n",
    "        activations_layer = np.zeros(weights[layer].shape[0])\n",
    "        # For each neuron in layer calculating the sigma value\n",
    "        for i in range(weights[layer].shape[0]):            \n",
    "            sigma = 0\n",
    "            # Summing the product of all weights and activations \n",
    "            # in previous layer for a single neuron\n",
    "            for j in range(weights[layer].shape[1]):\n",
    "                sigma += weights[layer][i][j] * activations[layer][j]\n",
    "            # Adding bias of the neuron to the sum calculated in sigma    \n",
    "            sigma_layer[i] = sigma + biases[layer][i]\n",
    "            # Applying sigmoid function on sigma of the neuron\n",
    "            # to calculate the actiation of the neuron\n",
    "            activations_layer[i] = f(sigma_layer[i])\n",
    "        # appending all sigma values for current layer to list of sigmas\n",
    "        sigmas.append(sigma_layer)\n",
    "        # appending all activation values for current layer to list of activations\n",
    "        activations.append(activations_layer)\n",
    "            \n",
    "    return sigmas, activations"
   ]
  },
  {
   "cell_type": "markdown",
   "metadata": {},
   "source": [
    "> #### Part 3.3: Back Propagation\n",
    "BackPropagation() method performs the backward pass of the neural network to propogate the errors in predictions back to all layers. The method is configured to work for both shallow and deep neural network."
   ]
  },
  {
   "cell_type": "code",
   "execution_count": 25,
   "metadata": {},
   "outputs": [],
   "source": [
    "# Part 3.3: Back Propagation\n",
    "def BackPropagation(y, activations, sigmas, weights):\n",
    "    '''\n",
    "        Method to perform backward propogation step of neural network, \n",
    "        to calculate weight and bias gradient values for each neuron\n",
    "        in all hidden and output layers\n",
    "        \n",
    "        y: actual class value for the current sample\n",
    "        activations: activations of each neuron in all layers\n",
    "        sigmas: sigma values of each neuron in all layers\n",
    "        weights: current weights of each neuron in all layers\n",
    "    '''\n",
    "    # Initialising list of weight and bias gradients\n",
    "    delta_weights = []\n",
    "    delta_biases = []\n",
    "    \n",
    "    # Initialising list of delta sigmas with the delta sigma of output layer\n",
    "    delta_sigmas = [np.array(activations[len(activations)-1] - y)]\n",
    "    \n",
    "    # Calculating the weight gradients for output layer\n",
    "    for i in range(weights[len(weights) - 1].shape[0]):\n",
    "        delta_weight = []\n",
    "        for j in range(weights[len(weights) - 1].shape[1]):\n",
    "            delta_weight.append(delta_sigmas[i][0] * activations[len(activations)-2][j])\n",
    "        delta_weights.append(np.array([delta_weight]))\n",
    "    \n",
    "    # Reversing the weights and sigma lists for \n",
    "    # calculating deltas for hidden layers\n",
    "    reversed_weights = list(reversed(weights))\n",
    "    hidden_weights = reversed_weights[1:]\n",
    "    hidden_sigmas = list(reversed(sigmas))[1:]\n",
    "    \n",
    "    # Calculating the gradients of sigma for each neuron in each hidden layer\n",
    "    for layer in range(len(hidden_weights)):        \n",
    "        delta_sigma_layer = []\n",
    "        for i in range(hidden_sigmas[layer].shape[0]):\n",
    "            # Calculating the first-order derivative of sigma \n",
    "            # value of neuron in current hidden layer\n",
    "            delta_sigma = f_dash(hidden_sigmas[layer][i])\n",
    "            summation = 0\n",
    "            # Calculating sum of product of delta sigma values and weights of the next layer\n",
    "            for j in range(len(delta_sigmas[0])):\n",
    "                summation += delta_sigmas[0][j] * reversed_weights[layer][j][i]\n",
    "            # Multiplying the sum with the first-order derivative of sigma\n",
    "            delta_sigma = delta_sigma * summation\n",
    "            # Appending the gradient sigma to list of sigmas for current layer\n",
    "            delta_sigma_layer.append(delta_sigma)\n",
    "        # Inserting the delta sigmas calculated for \n",
    "        # current hidden layer at the beginning of delta_sigmas list,\n",
    "        # to be able to use it as the next layer delta sigmas \n",
    "        # for next hidden layer in the reverse order\n",
    "        delta_sigmas.insert(0, np.array(delta_sigma_layer))\n",
    "    \n",
    "    # Calculating the hidden layer weight gradients\n",
    "    hidden_delta_weights = []\n",
    "    for layer in range(len(weights)-1):\n",
    "        layer_delta_weights = np.zeros(weights[layer].shape)\n",
    "        for i in range(weights[layer].shape[0]):\n",
    "            # Calculating weight gradient for a neuron in current layer\n",
    "            # by multiplying delta sigma for the neuron with activations from previous layer,\n",
    "            # NOTE: activations list starts with input values in first position,\n",
    "            # thus, activations[layer] consists of activations of previous layer for current layer\n",
    "            for j in range(len(weights[layer][i])):\n",
    "                layer_delta_weights[i][j] = delta_sigmas[layer][i] * activations[layer][j]\n",
    "        hidden_delta_weights.append(np.array(layer_delta_weights))\n",
    "    \n",
    "    # Combining the delta weights for all hidden and output layers\n",
    "    delta_weights = hidden_delta_weights + delta_weights\n",
    "    # Setting the delta bias values for all hidden and output layers\n",
    "    delta_biases = delta_sigmas\n",
    "                \n",
    "    return delta_weights, delta_biases"
   ]
  },
  {
   "cell_type": "markdown",
   "metadata": {},
   "source": [
    "> #### Part 3.4: Weight and Bias Update\n",
    "SGD_Parameter_Update() method updates the current weights and biases for all neurons in each layer. The method is configured to work for both shallow and deep neural network."
   ]
  },
  {
   "cell_type": "code",
   "execution_count": 35,
   "metadata": {},
   "outputs": [],
   "source": [
    "# Part 3.4: Weight and Bias Update\n",
    "def SGD_Parameter_Update(alpha, weights, biases, delta_weights, delta_biases): \n",
    "    '''\n",
    "        Method to update weights and biases using the weight and bias gradients\n",
    "        \n",
    "        alpha: Learning rate\n",
    "        weights: current weights for each neuron in all layers\n",
    "        biases: current biases for each neuron in all layers\n",
    "        delta_weights: weight gradients for each neuron in all layers\n",
    "        delta_biases: bias gradients for each neuron in all layers\n",
    "    '''\n",
    "    # Updating weights using gradient descent update\n",
    "    for layer in range(len(weights)):\n",
    "        for i in range(weights[layer].shape[0]):    \n",
    "            for j in range(weights[layer].shape[1]):\n",
    "                weights[layer][i][j] -= alpha * delta_weights[layer][i][j]\n",
    "    \n",
    "    # Updating biases using gradient descent update\n",
    "    for layer in range(len(biases)):\n",
    "        for i in range(biases[layer].shape[0]):\n",
    "            biases[layer][i] -= alpha * delta_biases[layer][i]\n",
    "    \n",
    "    return weights, biases"
   ]
  },
  {
   "cell_type": "markdown",
   "metadata": {},
   "source": [
    "> #### Part 3.5: Prediction function for neural network\n",
    "PredictNN() function calculates predictions for test data-set."
   ]
  },
  {
   "cell_type": "code",
   "execution_count": 36,
   "metadata": {},
   "outputs": [],
   "source": [
    "# Part 3.5: Prediction function for neural network\n",
    "def predictNN(data, weights, biases):\n",
    "    '''\n",
    "        Method to calculate predictions for test-data set\n",
    "        data: fixed number of samples \n",
    "        weights: trained weights for each neuron in all layers\n",
    "        biases: trained biases for each neuron in all layers\n",
    "    '''\n",
    "    predictions = []\n",
    "    for sample in data:\n",
    "        # Performing the forward pass on sample using trained weights and biases\n",
    "        sigmas, activations = ForwardPropagation(sample, weights, biases)\n",
    "        # Getting the activation in output neuron\n",
    "        prediction = activations[len(activations) - 1][0]\n",
    "        if prediction > 0.5:\n",
    "            predictions.append(1)\n",
    "        else:\n",
    "            predictions.append(0)\n",
    "    return predictions"
   ]
  },
  {
   "cell_type": "markdown",
   "metadata": {},
   "source": [
    "> #### Part 3.6: Implementing neural network for a given configuration\n",
    "Stochastic_NN() function runs the neural network using stochastic gradient descent. Method is configured to support single hidden layer with different number of neurons and one output layer with single neuron (shallow network)."
   ]
  },
  {
   "cell_type": "code",
   "execution_count": 39,
   "metadata": {},
   "outputs": [],
   "source": [
    "# Part 3.6: Implementing neural network for a given configuration\n",
    "def Stochastic_NN(X, y, alpha, epochs, layers=2, hidden_layer_neurons=3):\n",
    "    '''\n",
    "        Method to run shallow neural network using stochastic gradient descent\n",
    "        \n",
    "        X: training data-set of fixed samples\n",
    "        y: labels for each sample of X\n",
    "        epochs: total number of epochs\n",
    "        layers: total number of layers of neural network, including output layer\n",
    "        hidden_layer_neurons: number of neurons in hidden layer\n",
    "    '''\n",
    "    # Getting number of samples and number of features in training data-set X\n",
    "    (nsamples, nattributes) = np.shape(X)\n",
    "    # Initialising threshold to small value to check convergence\n",
    "    threshold = 1e-6\n",
    "    # Setting the number of neurons in hidden and output layers\n",
    "    layer_neurons = []\n",
    "    layer_neurons.append(hidden_layer_neurons)    \n",
    "    layer_neurons.append(1)\n",
    "    # Setting the number of neurons for input layer\n",
    "    layer_neurons.insert(0, nattributes)\n",
    "    # Initialising weights and biases for each layer to small random values\n",
    "    weights = []\n",
    "    biases = []\n",
    "    for i in range(1, layers + 1):\n",
    "        weights.append(np.random.rand(layer_neurons[i], layer_neurons[i - 1]))\n",
    "        biases.append(np.array(np.random.rand(layer_neurons[i])))\n",
    "    \n",
    "    # Initialising cost value to 0\n",
    "    J_prev = 0\n",
    "    \n",
    "    for epoch in range(epochs):\n",
    "        # Randomly selecting a sample from X\n",
    "        idx = np.random.choice(nsamples, 1, replace=False)\n",
    "        random_X = X[idx[0]]\n",
    "        random_y = y[idx[0]]\n",
    "        # Implementing forward pass\n",
    "        sigmas, activations = ForwardPropagation(random_X, weights, biases)\n",
    "        # Getting the activation in output neuron\n",
    "        y_hat = activations[len(activations)-1][0]\n",
    "        # Calculating cost\n",
    "        J_curr = -1 * ((random_y * np.log(y_hat)) + ((1 - random_y) * np.log(1 - y_hat)))        \n",
    "        # Checking if convergence reached\n",
    "        if np.absolute(J_curr - J_prev) < threshold:\n",
    "            break\n",
    "        else:\n",
    "            J_prev = J_curr        \n",
    "        # Implementing backward pass\n",
    "        delta_weights, delta_biases = BackPropagation(random_y, activations, sigmas, weights)\n",
    "        # Updating weights and biases\n",
    "        weights, biases = SGD_Parameter_Update(alpha, weights, biases, delta_weights, delta_biases)\n",
    "        # Printing loss in intervals of epochs\n",
    "        if epoch % (epochs/10) == 0:\n",
    "            print(f\"Epoch {epoch} ==> Loss: {J_curr}, Error: {random_y - y_hat}\")\n",
    "    return weights, biases"
   ]
  },
  {
   "cell_type": "markdown",
   "metadata": {},
   "source": [
    "> #### Part 3.7: Testing Shallow Network on blobs300 Data-Set.\n",
    "The best parameters found for the given data-set for neural network with one hidden layer, after testing with different hyperparameters are,\n",
    "> 1. alpha: 0.1\n",
    "> 2. epochs: 1000\n",
    "> 3. number of neurons in hidden layer: 3\n",
    "\n",
    "> The neural network is able to handle linearly separable data as we get 99% accuracy on training data and 100% accuracy on test data."
   ]
  },
  {
   "cell_type": "code",
   "execution_count": 63,
   "metadata": {},
   "outputs": [
    {
     "name": "stdout",
     "output_type": "stream",
     "text": [
      "Epoch 0 ==> Loss: 1.483827904777161, Error: -0.7732320213659832\n",
      "Epoch 100 ==> Loss: 0.7303865490027355, Error: 0.5182772553505124\n",
      "Epoch 200 ==> Loss: 0.40916261175407, Error: -0.33579378419773886\n",
      "Epoch 300 ==> Loss: 0.21466863958574298, Error: -0.19319125963303552\n",
      "Epoch 400 ==> Loss: 0.1522224633927398, Error: -0.1412027914520617\n",
      "Epoch 500 ==> Loss: 0.145795564586872, Error: -0.13566561431883475\n",
      "Epoch 600 ==> Loss: 0.11590567411542381, Error: -0.10944077787782727\n",
      "Epoch 700 ==> Loss: 0.05489518354632233, Error: 0.053415639630393086\n",
      "Epoch 800 ==> Loss: 0.08879516656372713, Error: -0.08496701626977587\n",
      "Epoch 900 ==> Loss: 0.04806153973362341, Error: 0.04692486671707152\n",
      "\n",
      "EVALUATION ON TRAINING DATA:\n",
      "Training Accuracy: 99.0%\n",
      "\n",
      "PREDICTIONS FOR TESTING DATA:\n",
      "Testing Accuracy: 100.0%\n"
     ]
    },
    {
     "data": {
      "image/png": "[encoded data removed]",
      "text/plain": [
       "<Figure size 432x288 with 1 Axes>"
      ]
     },
     "metadata": {
      "needs_background": "light"
     },
     "output_type": "display_data"
    }
   ],
   "source": [
    "# Part 3.7: Testing shallow network on blobs300 data-set.\n",
    "np.random.seed(200)\n",
    "file = 'blobs300.csv'\n",
    "# Training shallow neural network for blobs300 data-set, using the train data calculated in Part 2\n",
    "# with best parameters found.\n",
    "w_300, b_300 = Stochastic_NN(X_train[file], y_train[file], 0.1, 1000)\n",
    "\n",
    "# Evaluating the model on training data\n",
    "print(\"\\nEVALUATION ON TRAINING DATA:\")\n",
    "training_predictions_300 = predictNN(X_train[file], w_300, b_300)\n",
    "print(f\"Training Accuracy: {round(accuracy_score(y_train[file], training_predictions_300), 2) * 100}%\")\n",
    "\n",
    "# Using the model to predict classes of test data, using the test data calculated in Part 2\n",
    "print(\"\\nPREDICTIONS FOR TESTING DATA:\")\n",
    "predictions_300 = predictNN(X_test[file], w_300, b_300)\n",
    "print(f\"Testing Accuracy: {round(accuracy_score(y_test[file], predictions_300), 4) * 100}%\")\n",
    "\n",
    "plt.figure()\n",
    "plt.scatter(X_test[file][:, 0], X_test[file][:, 1], c=predictions_300) \n",
    "plt.title(f\"Testing Result for blobs300 dataset for Shallow Neural Network\")\n",
    "plt.show()"
   ]
  },
  {
   "cell_type": "markdown",
   "metadata": {},
   "source": [
    "> #### Part 3.8: Testing Shallow Network on circles600 Data-Set.\n",
    "The best parameters found for the given data-set for neural network with one hidden layer, after testing with different hyperparameters are,\n",
    "> 1. alpha: 0.5\n",
    "> 2. epochs: 5000\n",
    "> 3. number of neurons in hidden layer: 3\n",
    "\n",
    "> The neural network increases the accuracy from 65.56% in Part 2 to 97.78% for random seed 200, the data-set also gives 100% accuracy for different splits of the data."
   ]
  },
  {
   "cell_type": "code",
   "execution_count": 78,
   "metadata": {},
   "outputs": [
    {
     "name": "stdout",
     "output_type": "stream",
     "text": [
      "Epoch 0 ==> Loss: 2.9354313213618783, Error: -0.946892192166351\n",
      "Epoch 500 ==> Loss: 1.0372935486156112, Error: -0.645587414452878\n",
      "Epoch 1000 ==> Loss: 0.4116173690166781, Error: -0.3374222496683901\n",
      "Epoch 1500 ==> Loss: 1.6551694923612907, Error: -0.808940330193622\n",
      "Epoch 2000 ==> Loss: 0.1008993101048937, Error: -0.0959759456094755\n",
      "Epoch 2500 ==> Loss: 0.3526855111393095, Error: 0.2972018191744421\n",
      "Epoch 3000 ==> Loss: 0.3068637662715999, Error: 0.26424917184157426\n",
      "Epoch 3500 ==> Loss: 1.387013142916528, Error: -0.7501796308837209\n",
      "Epoch 4000 ==> Loss: 0.1859814281851733, Error: 0.16971098518741912\n",
      "Epoch 4500 ==> Loss: 0.011382931525052572, Error: 0.0113183910786121\n",
      "\n",
      "EVALUATION ON TRAINING DATA:\n",
      "Training Accuracy: 99.52%\n",
      "\n",
      "PREDICTIONS FOR TESTING DATA:\n",
      "Accuracy: 97.78%\n"
     ]
    },
    {
     "data": {
      "image/png": "[encoded data removed]",
      "text/plain": [
       "<Figure size 432x288 with 1 Axes>"
      ]
     },
     "metadata": {
      "needs_background": "light"
     },
     "output_type": "display_data"
    }
   ],
   "source": [
    "# Part 3.8: Testing Shallow Network on circles600 Data-Set.\n",
    "np.random.seed(200)\n",
    "\n",
    "file = 'circles600.csv'\n",
    "# Training shallow neural network for circles600 data-set, using the train data calculated in Part 2\n",
    "# with best parameters found.\n",
    "w_600, b_600 = Stochastic_NN(X_train[file], y_train[file], 0.5, 5000)\n",
    "\n",
    "# Evaluating the model on training data\n",
    "print(\"\\nEVALUATION ON TRAINING DATA:\")\n",
    "training_predictions_600 = predictNN(X_train[file], w_600, b_600)\n",
    "print(f\"Training Accuracy: {round(accuracy_score(y_train[file], training_predictions_600), 4) * 100}%\")\n",
    "\n",
    "# Using the model to predict classes of test data, using the test data calculated in Part 2\n",
    "print(\"\\nPREDICTIONS FOR TESTING DATA:\")\n",
    "predictions_600 = predictNN(X_test[file], w_600, b_600)\n",
    "print(f\"Accuracy: {round(accuracy_score(y_test[file], predictions_600), 4) * 100}%\")\n",
    "\n",
    "plt.figure()\n",
    "plt.scatter(X_test[file][:, 0], X_test[file][:, 1], c=predictions_600) \n",
    "plt.title(f\"Testing Result for blobs300 dataset for Shallow Neural Network\")\n",
    "plt.show()"
   ]
  },
  {
   "cell_type": "markdown",
   "metadata": {},
   "source": [
    "### Part 4 Solution: Challenging Task\n",
    "\n",
    "Following section contains solutions for loading CIFAR-10 data set, converting it into grayscale 1-dimensional vector consisting of **dog** and **deer** images and classification between the classes of **dog** and **deer** using shallow neural network with **one hidden layer**. The code used for loading and visualising the CIFAR-10 dataset is based on [4], [5]."
   ]
  },
  {
   "cell_type": "code",
   "execution_count": 79,
   "metadata": {},
   "outputs": [],
   "source": [
    "# unpickle is taken from [5]\n",
    "def unpickle(file):\n",
    "    '''\n",
    "        Method to load CIFAR-10 data-set\n",
    "    '''\n",
    "    import pickle\n",
    "    with open(file, 'rb') as fo:\n",
    "        dict = pickle.load(fo, encoding='bytes')\n",
    "    return dict"
   ]
  },
  {
   "cell_type": "code",
   "execution_count": 98,
   "metadata": {},
   "outputs": [],
   "source": [
    "# loadbatch is taken from [4]\n",
    "def loadbatch(batchname):\n",
    "    '''\n",
    "        Method to load batch from data-set\n",
    "    '''\n",
    "    folder = 'cifar-10-batches-py'\n",
    "    batch = unpickle(folder+\"/\"+batchname)\n",
    "    return batch\n",
    "\n",
    "# loadlabelnames is taken from [4]\n",
    "def loadlabelnames():\n",
    "    '''\n",
    "        Method to load names of available labels for CIFAR-10 data-set\n",
    "    '''\n",
    "    folder = 'cifar-10-batches-py'\n",
    "    meta = unpickle(folder+\"/\"+'batches.meta')\n",
    "    return meta[b'label_names']\n",
    "\n",
    "# visualise is taken from [4]\n",
    "def visualise(data):    \n",
    "    # Plot.imshow requires the RGB to be the third dimension, not the first, so need to rearrange\n",
    "    picture = data.transpose([1, 2, 0])\n",
    "    plt.imshow(picture)\n",
    "    plt.show()\n",
    "    "
   ]
  },
  {
   "cell_type": "code",
   "execution_count": 149,
   "metadata": {},
   "outputs": [],
   "source": [
    "# Following code is based on [4]\n",
    "\n",
    "# Loading data from all five batches\n",
    "batch1 = loadbatch('data_batch_1')\n",
    "batch2 = loadbatch('data_batch_2')\n",
    "batch3 = loadbatch('data_batch_3')\n",
    "batch4 = loadbatch('data_batch_4')\n",
    "batch5 = loadbatch('data_batch_5')\n",
    "# Loading test data from test_batch\n",
    "test_batch = loadbatch('test_batch')\n",
    "\n",
    "# Getting data (RGB features) from batches\n",
    "train_data = np.concatenate((batch3[b'data'], batch4[b'data'], batch5[b'data']))\n",
    "# Getting labels (RGB features) from batches\n",
    "train_labels = np.concatenate((batch3[b'labels'], batch4[b'labels'], batch5[b'labels']))\n",
    "# Getting test data from test batch\n",
    "test_data = test_batch[b'data']\n",
    "# Getting test labels from test batch\n",
    "test_labels = test_batch[b'labels']\n",
    "\n",
    "# Loading label names\n",
    "names = loadlabelnames()"
   ]
  },
  {
   "cell_type": "code",
   "execution_count": 150,
   "metadata": {},
   "outputs": [],
   "source": [
    "# Following code is based on [4]\n",
    "def extract_images(data, labels):\n",
    "    # initialising data set and labels for storing dog and deer images\n",
    "    X = []\n",
    "    y = []\n",
    "    dogs_deer = []\n",
    "    # Extracting dog (label: 5) and deer (label: 4) images from the data-set of all images\n",
    "    for i in range(len(labels)):\n",
    "        if labels[i] == 4 or labels[i] == 5:\n",
    "            picture = data[i]\n",
    "            picture.shape = (3,32,32)\n",
    "            dogs_deer.append((picture, labels[i]))\n",
    "    for picture, label in dogs_deer:\n",
    "            # Converting the images into 2D grayscale by taking mean over each color channel\n",
    "            gray_picture = np.mean(picture, axis=0)\n",
    "            # Converting the image into 1D vector using flatten() and saving in the data-set\n",
    "            X.append(gray_picture.flatten())\n",
    "            # Saving corresponding label of image in y (class 0 for deer and class 1 for dog)\n",
    "            if label == 4:\n",
    "                y.append(0)\n",
    "            elif label == 5:\n",
    "                y.append(1)\n",
    "    # Visualing few images from dogs_deer\n",
    "    visualise(dogs_deer[1][0])\n",
    "    visualise(dogs_deer[7][0])\n",
    "    \n",
    "    return np.array(X), np.array(y)"
   ]
  },
  {
   "cell_type": "code",
   "execution_count": 151,
   "metadata": {},
   "outputs": [
    {
     "data": {
      "image/png": "[encoded data removed]",
      "text/plain": [
       "<Figure size 432x288 with 1 Axes>"
      ]
     },
     "metadata": {
      "needs_background": "light"
     },
     "output_type": "display_data"
    },
    {
     "data": {
      "image/png": "[encoded data removed]",
      "text/plain": [
       "<Figure size 432x288 with 1 Axes>"
      ]
     },
     "metadata": {
      "needs_background": "light"
     },
     "output_type": "display_data"
    },
    {
     "data": {
      "image/png": "[encoded data removed]",
      "text/plain": [
       "<Figure size 432x288 with 1 Axes>"
      ]
     },
     "metadata": {
      "needs_background": "light"
     },
     "output_type": "display_data"
    },
    {
     "data": {
      "image/png": "[encoded data removed]",
      "text/plain": [
       "<Figure size 432x288 with 1 Axes>"
      ]
     },
     "metadata": {
      "needs_background": "light"
     },
     "output_type": "display_data"
    },
    {
     "name": "stdout",
     "output_type": "stream",
     "text": [
      "size of data: 6066 , size of labels: 6066\n",
      "size of test data: 2000 , size of labels: 2000\n"
     ]
    }
   ],
   "source": [
    "# extracting dog and deer images for train and test data-sets\n",
    "dd_X, dd_y = extract_images(train_data, train_labels)\n",
    "dd_X_test, dd_y_test = extract_images(test_data, test_labels)\n",
    "\n",
    "assert len(dd_X) == len(dd_y)\n",
    "assert len(dd_X_test) == len(dd_y_test)\n",
    "\n",
    "print(\"size of data:\", len(dd_X), \", size of labels:\", len(dd_y))\n",
    "print(\"size of test data:\", len(dd_X_test), \", size of labels:\", len(dd_y_test))\n"
   ]
  },
  {
   "cell_type": "code",
   "execution_count": 181,
   "metadata": {},
   "outputs": [
    {
     "name": "stdout",
     "output_type": "stream",
     "text": [
      "Epoch 0 ==> Loss: 0.10176522676557169, Error: 0.09675841627374149\n",
      "Epoch 200 ==> Loss: 0.7590794019820655, Error: -0.5319028419696895\n",
      "Epoch 400 ==> Loss: 0.9297101479484018, Error: -0.605331910850321\n",
      "Epoch 600 ==> Loss: 0.523586848374442, Error: 0.4076080872627931\n",
      "Epoch 800 ==> Loss: 1.007723418088607, Error: 0.6349509015294933\n",
      "Epoch 1000 ==> Loss: 0.6765311692001913, Error: -0.49162258747297755\n",
      "Epoch 1200 ==> Loss: 0.749614066521602, Error: -0.5274511100094458\n",
      "Epoch 1400 ==> Loss: 0.5640561273221085, Error: -0.43110314037427294\n",
      "Epoch 1600 ==> Loss: 1.1366972063297625, Error: -0.6791229356565387\n",
      "Epoch 1800 ==> Loss: 0.8384665076047759, Error: -0.567626943901733\n",
      "\n",
      "EVALUATION ON TRAINING DATA:\n",
      "Training Accuracy: 100.0%\n",
      "\n",
      "PREDICTIONS FOR TESTING DATA:\n",
      "Accuracy: 50.0%\n"
     ]
    }
   ],
   "source": [
    "from sklearn import preprocessing\n",
    "\n",
    "# Normalising image data using sklearn standard scalar function\n",
    "scalar = preprocessing.StandardScaler().fit(dd_X)\n",
    "dd_X_train = scalar.transform(dd_X)\n",
    "dd_y_train = dd_y\n",
    "dd_X_test = scalar.transform(dd_X_test)\n",
    "dd_y_test = dd_y_test\n",
    "\n",
    "# Training neural network for image classification with single hidden layer\n",
    "ddweights, ddbiases = Stochastic_NN(dd_X_train, dd_y_train, 0.05, 2000)\n",
    "\n",
    "# Evaluating the model on training data\n",
    "print(\"\\nEVALUATION ON TRAINING DATA:\")\n",
    "training_predictions = predictNN(dd_X_train, ddweights, ddbiases)\n",
    "print(f\"Training Accuracy: {round(accuracy_score(dd_y_train, training_predictions)) * 100}%\")\n",
    "\n",
    "# Using the model to predict classes of test data\n",
    "print(\"\\nPREDICTIONS FOR TESTING DATA:\")\n",
    "ddpredictions = predictNN(dd_X_test, ddweights, ddbiases)\n",
    "print(f\"Accuracy: {accuracy_score(dd_y_test, ddpredictions) * 100}%\")"
   ]
  },
  {
   "cell_type": "markdown",
   "metadata": {},
   "source": [
    "- From above results it can be seen that running the shallow neural network with one hidden layer consisting of 3 neurons, provides 100% accuracy on training data, however, very low accuracy on the testing data, which could mean the neural network is overfitting the model.\n",
    "- However, the changes in the loss could be an indication that the data-set consists of saddle points.\n",
    "- Further, it was found that increasing the number of neurons does not affect the accuracy.\n",
    "- Reducing the learning rate and epochs from the set 0.05 alpha and 2000 epochs reduces the performance on training data as well."
   ]
  },
  {
   "cell_type": "markdown",
   "metadata": {},
   "source": [
    "### Part 5 Solution: Deep Learning Enhancements\n",
    "\n",
    "The following section contains enhancement to Part 3 neural network architecture. \n",
    "\n",
    "> #### Part 5.1: Implementing Enhacements to Part 3 Architecture\n",
    "> - The Enhanced_NN() provides support for mutliple hidden layers, multiple neurons in the hidden layers.\n",
    "> - Further the Part 3 architecture has been updated to perform back propagation with momentum."
   ]
  },
  {
   "cell_type": "code",
   "execution_count": 167,
   "metadata": {},
   "outputs": [],
   "source": [
    "# Part 5.1: Implementing Enhacements to Part 3 Architecture\n",
    "def Enhanced_NN(X, y, alpha, epochs, layers=2, hidden_layer_neurons=[3], beta=0.9):\n",
    "    '''\n",
    "       Method to run deep neural network using Backprop with Momentum\n",
    "       \n",
    "       X: training data-set of fixed samples\n",
    "       y: labels for each sample of X\n",
    "       epochs: total number of epochs\n",
    "       layers: total number of layers of neural network, including output layer\n",
    "       hidden_layer_neurons: array of number of neurons for all hidden layers\n",
    "       beta: momentum set to default value of 0.9\n",
    "    '''\n",
    "    # Getting number of samples and number of features in training data-set X\n",
    "    (nsamples, nattributes) = np.shape(X)\n",
    "    # Initialising threshold to small value to check convergence\n",
    "    threshold = 1e-6\n",
    "    \n",
    "    # Setting the number of neurons in hidden and output layers    \n",
    "    layer_neurons = []\n",
    "    for layer in range(layers-1):\n",
    "        layer_neurons.append(hidden_layer_neurons[layer])\n",
    "    layer_neurons.append(1)\n",
    "    # Setting the number of neurons for input layer\n",
    "    layer_neurons.insert(0, nattributes)\n",
    "    \n",
    "    # Initialising weights and biases for each layer to small random values\n",
    "    weights = []\n",
    "    biases = []\n",
    "    for i in range(1, layers + 1):\n",
    "        weights.append(np.random.rand(layer_neurons[i], layer_neurons[i - 1]))\n",
    "        biases.append(np.array(np.random.rand(layer_neurons[i])))\n",
    "    \n",
    "    # Initialising cost value to 0\n",
    "    J_prev = 0\n",
    "    V_w = weights\n",
    "    V_b = biases\n",
    "    for epoch in range(epochs):\n",
    "        # Randomly selecting a sample from X\n",
    "        idx = np.random.choice(nsamples, 1, replace=False)\n",
    "        random_X = X[idx[0]]\n",
    "        random_y = y[idx[0]]\n",
    "        \n",
    "        # Performing the forward pass, implemented in Part 3.2\n",
    "        sigmas, activations = ForwardPropagation(random_X, weights, biases)\n",
    "        \n",
    "        # Getting the activation value of output neuron\n",
    "        y_hat = activations[len(activations)-1][0]\n",
    "        \n",
    "        # Calculating the cost\n",
    "        J_curr = -1 * ((random_y * np.log(y_hat)) + ((1 - random_y) * np.log(1 - y_hat)))        \n",
    "        # Checking if convergence has reached\n",
    "        if np.absolute(J_curr - J_prev) < threshold:\n",
    "            break\n",
    "        else:\n",
    "            J_prev = J_curr\n",
    "        \n",
    "        # Performing the backward pass, implemented in Part 3.3\n",
    "        delta_weights, delta_biases = BackPropagation(random_y, activations, sigmas, weights)\n",
    "        \n",
    "        # Setting the exponentially weighted moving average of gradients of weights and biases (V_w and V_b)\n",
    "        if epoch == 1:\n",
    "            # Initialising V_w and V_b with gradients for first iteration\n",
    "            V_w = delta_weights\n",
    "            V_b = delta_biases\n",
    "        else:\n",
    "            # Calculating V_w and V_b using momentum beta and gradients of weights and biases\n",
    "            for layer in range(len(delta_weights)):\n",
    "                for i in range(delta_weights[layer].shape[0]):\n",
    "                    for j in range(delta_weights[layer].shape[1]):\n",
    "                        V_w[layer][i][j] = ((1-beta) * delta_weights[layer][i][j]) + (beta * V_w[layer][i][j])\n",
    "            \n",
    "            for layer in range(len(delta_biases)):\n",
    "                for i in range(delta_biases[layer].shape[0]):\n",
    "                    V_b[layer][i] = ((1-beta) * delta_biases[layer][i]) + (beta * V_b[layer][i])\n",
    "        \n",
    "        # Updating the weights and biases using V_w and V_b, implemented in Part 3.4\n",
    "        weights, biases = SGD_Parameter_Update(alpha, weights, biases, V_w, V_b)\n",
    "        # Printing loss in intervals of epochs\n",
    "        if epoch % (epochs/10) == 0:\n",
    "            print(f\"Epoch {epoch} ==> Loss: {J_curr}, Error: {random_y - y_hat}\")\n",
    "    return weights, biases"
   ]
  },
  {
   "cell_type": "markdown",
   "metadata": {},
   "source": [
    "> #### Part 5.2: Testing Enhanced_NN on CIFAR-10 Data\n",
    "> Using the same data-set loaded and converted into gray-scale 1D vector, the Enhanced_NN is tested."
   ]
  },
  {
   "cell_type": "code",
   "execution_count": 197,
   "metadata": {},
   "outputs": [
    {
     "name": "stdout",
     "output_type": "stream",
     "text": [
      "Epoch 0 ==> Loss: 0.003472512824039907, Error: 0.003466490624122187\n",
      "Epoch 100 ==> Loss: 0.7067223724048205, Error: -0.506741732234717\n",
      "Epoch 200 ==> Loss: 0.9252069864453678, Error: -0.6035506490601293\n",
      "Epoch 300 ==> Loss: 0.5239163001206281, Error: -0.40780321966775007\n",
      "Epoch 400 ==> Loss: 0.4456808560035204, Error: 0.3596118845251034\n",
      "Epoch 500 ==> Loss: 0.6000236114229988, Error: -0.4512013219766802\n",
      "Epoch 600 ==> Loss: 0.8180753288764381, Error: -0.5587198431245959\n",
      "Epoch 700 ==> Loss: 0.4863975531645456, Error: 0.3851626718054796\n",
      "Epoch 800 ==> Loss: 1.1471829241990217, Error: -0.6824699832581921\n",
      "Epoch 900 ==> Loss: 0.7413368098717807, Error: -0.5235234689453543\n",
      "\n",
      "EVALUATION ON TRAINING DATA:\n",
      "Training Accuracy: 100.0%\n",
      "\n",
      "PREDICTIONS FOR TESTING DATA:\n",
      "Accuracy: 50.0%\n"
     ]
    }
   ],
   "source": [
    "# Part 5.2: Testing Enhanced_NN on CIFAR-10 Data\n",
    "# Training neural network for image classification with 2 hidden layers, with 4 and 8 neurons respectively\n",
    "ddweights_enhanced, ddbiases_enhanced = \\\n",
    "    Enhanced_NN(dd_X_train, dd_y_train, 0.05, 1000, layers=3, hidden_layer_neurons=[4, 8])\n",
    "\n",
    "# Evaluating the model on training data\n",
    "print(\"\\nEVALUATION ON TRAINING DATA:\")\n",
    "training_predictions_enhanced = predictNN(dd_X_train, ddweights_enhanced, ddbiases_enhanced)\n",
    "print(f\"Training Accuracy: {round(accuracy_score(dd_y_train, training_predictions_enhanced)) * 100}%\")\n",
    "\n",
    "# Using the model to predict classes of test data\n",
    "print(\"\\nPREDICTIONS FOR TESTING DATA:\")\n",
    "ddpredictions_enhanced = predictNN(dd_X_test, ddweights_enhanced, ddbiases_enhanced)\n",
    "print(f\"Accuracy: {accuracy_score(dd_y_test, ddpredictions_enhanced) * 100}%\")"
   ]
  },
  {
   "cell_type": "markdown",
   "metadata": {},
   "source": [
    "- From the above results it can be seen that increasing the number of hidden layers and neurons, along with adding momentum is still giving the same results as Part 4. \n",
    "- Thus, for the given enhancement there has been no improvement in the accuracy of the data-set.\n",
    "- Different configurations of hidden layers, neurons and epochs were tested, however, every configuration gave similar results."
   ]
  },
  {
   "cell_type": "markdown",
   "metadata": {},
   "source": [
    "### References:\n",
    "\n",
    "    [1] Madden, M. (2022). Topic 02: Fundamentals of Neural Networks, Part 1.\n",
    "    [2] Madden, M. (2022). Simple Python routine to read and plot a small dataset. [Source: LoadDataset.ipynb]\n",
    "    [3] Agrawal, S. (2021). How to split data into three sets (train, validation, and test) And why?. Available at: https://towardsdatascience.com/how-to-split-data-into-three-sets-train-validation-and-test-and-why-e50d22d3e54c#:~:text=Train%2DValid%2DTest%20split%20is,of%20these%20datasets%20is%20below. (Accessed on: 25/01/2022)\n",
    "    [4] Madden, M. (2021). Load and View CIFAR-10 Data. [Source: LoadCIFAR10.ipynb]\n",
    "    [5] Learning Multiple Layers of Features from Tiny Images, Alex Krizhevsky, 2009.\n",
    "\n",
    "### Acknowledgments:\n",
    "\n",
    "Following resources were also referred to complete the above tasks,\n",
    "\n",
    "1. sklearn.model_selection.train_test_split. Available at: https://scikit-learn.org/stable/modules/generated/sklearn.model_selection.train_test_split.html (Accessed on: 21/01/22)\n",
    "2. Madden, M. (2022). Topic 03: Fundamentals of Neural Networks, Part 2.\n",
    "3. Madden, M. (2022). Topic 04: Deep Neural Networks, Part 1.\n",
    "4. Madden, M. (2022). Topic 05: Deep Neural Networks, Part 2.\n",
    "5. numpy.ndarray.flatten. Available at: https://numpy.org/doc/stable/reference/generated/numpy.ndarray.flatten.html (Accessed on: 25/02/22)\n",
    "6. numpy.mean. Available at: https://numpy.org/doc/stable/reference/generated/numpy.mean.html#numpy-mean (Accessed on: 25/02/22)"
   ]
  }
 ],
 "metadata": {
  "kernelspec": {
   "display_name": "Python 3",
   "language": "python",
   "name": "python3"
  },
  "language_info": {
   "codemirror_mode": {
    "name": "ipython",
    "version": 3
   },
   "file_extension": ".py",
   "mimetype": "text/x-python",
   "name": "python",
   "nbconvert_exporter": "python",
   "pygments_lexer": "ipython3",
   "version": "3.7.6"
  }
 },
 "nbformat": 4,
 "nbformat_minor": 4
}
